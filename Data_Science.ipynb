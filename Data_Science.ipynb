{
 "cells": [
  {
   "cell_type": "markdown",
   "id": "a355ed1c-5cd8-48ae-b051-cd9e4f38d075",
   "metadata": {},
   "source": [
    "# Exercise 2 - Notebook Title\n",
    "\n",
    "Data Science Tools and Their Ecosystem\n",
    "\n",
    "# Exercise 3 - Introduction\n",
    "\n",
    "In this notebook, we’ll explore essential tools, languages, and libraries widely used in Data Science. We’ll also perform simple arithmetic operations in Python to demonstrate practical coding.\n",
    "\n",
    "# Exercise 4 - Commonly Used Languages for Data Science\n",
    "\n",
    "Below are some of the most popular programming languages used by data scientists:\n",
    "\n",
    "- Python  \n",
    "- R  \n",
    "- SQL  \n",
    "- Julia  \n",
    "- Scala  \n",
    "\n",
    "# Exercise 5 - Popular Data Science Libraries\n",
    "\n",
    "Here is a list of widely-used libraries in the Data Science field:\n",
    "\n",
    "- NumPy  \n",
    "- Pandas  \n",
    "- Matplotlib  \n",
    "- Scikit-learn  \n",
    "- TensorFlow  \n"
   ]
  },
  {
   "cell_type": "code",
   "execution_count": 2,
   "id": "8c396cc2-9057-48c6-ab97-564b38642146",
   "metadata": {},
   "outputs": [
    {
     "data": {
      "text/html": [
       "<div>\n",
       "<style scoped>\n",
       "    .dataframe tbody tr th:only-of-type {\n",
       "        vertical-align: middle;\n",
       "    }\n",
       "\n",
       "    .dataframe tbody tr th {\n",
       "        vertical-align: top;\n",
       "    }\n",
       "\n",
       "    .dataframe thead th {\n",
       "        text-align: right;\n",
       "    }\n",
       "</style>\n",
       "<table border=\"1\" class=\"dataframe\">\n",
       "  <thead>\n",
       "    <tr style=\"text-align: right;\">\n",
       "      <th></th>\n",
       "      <th>Tool Name</th>\n",
       "      <th>Description</th>\n",
       "    </tr>\n",
       "  </thead>\n",
       "  <tbody>\n",
       "    <tr>\n",
       "      <th>0</th>\n",
       "      <td>Jupyter Notebook</td>\n",
       "      <td>Interactive environment for writing code and n...</td>\n",
       "    </tr>\n",
       "    <tr>\n",
       "      <th>1</th>\n",
       "      <td>RStudio</td>\n",
       "      <td>IDE tailored for R language development</td>\n",
       "    </tr>\n",
       "    <tr>\n",
       "      <th>2</th>\n",
       "      <td>Apache Spark</td>\n",
       "      <td>Framework for handling large-scale data</td>\n",
       "    </tr>\n",
       "    <tr>\n",
       "      <th>3</th>\n",
       "      <td>TensorFlow</td>\n",
       "      <td>Deep learning and ML framework</td>\n",
       "    </tr>\n",
       "    <tr>\n",
       "      <th>4</th>\n",
       "      <td>Power BI</td>\n",
       "      <td>Business intelligence and data visualization tool</td>\n",
       "    </tr>\n",
       "  </tbody>\n",
       "</table>\n",
       "</div>"
      ],
      "text/plain": [
       "          Tool Name                                        Description\n",
       "0  Jupyter Notebook  Interactive environment for writing code and n...\n",
       "1           RStudio            IDE tailored for R language development\n",
       "2      Apache Spark            Framework for handling large-scale data\n",
       "3        TensorFlow                     Deep learning and ML framework\n",
       "4          Power BI  Business intelligence and data visualization tool"
      ]
     },
     "execution_count": 2,
     "metadata": {},
     "output_type": "execute_result"
    }
   ],
   "source": [
    "# Exercise 6 - Data Science Tools Table\n",
    "\n",
    "import pandas as pd\n",
    "\n",
    "tools_data = {\n",
    "    \"Tool Name\": [\"Jupyter Notebook\", \"RStudio\", \"Apache Spark\", \"TensorFlow\", \"Power BI\"],\n",
    "    \"Description\": [\n",
    "        \"Interactive environment for writing code and notes\",\n",
    "        \"IDE tailored for R language development\",\n",
    "        \"Framework for handling large-scale data\",\n",
    "        \"Deep learning and ML framework\",\n",
    "        \"Business intelligence and data visualization tool\"\n",
    "    ]\n",
    "}\n",
    "\n",
    "tools_df = pd.DataFrame(tools_data)\n",
    "tools_df\n"
   ]
  },
  {
   "cell_type": "markdown",
   "id": "c6012bc9-216b-4cab-a838-948b0279adcc",
   "metadata": {},
   "source": [
    "### Exercise 7 - What Are Arithmetic Expressions?\n",
    "\n",
    "Arithmetic expressions include operations like addition, subtraction, multiplication, and division. These are basic math operations executed using symbols:\n",
    "\n",
    "- Addition (+): 7 + 2  \n",
    "- Subtraction (-): 10 - 4  \n",
    "- Multiplication (*): 6 * 3  \n",
    "- Division (/): 12 / 4  \n",
    "\n",
    " "
   ]
  },
  {
   "cell_type": "code",
   "execution_count": 10,
   "id": "67d2386a-3a66-4443-87fa-43f9778d97e5",
   "metadata": {},
   "outputs": [
    {
     "name": "stdout",
     "output_type": "stream",
     "text": [
      "Product of numbers: 24\n",
      "Sum of numbers: 10\n"
     ]
    }
   ],
   "source": [
    "# Exercise 8 - Multiply and Add Numbers Using Python\n",
    "a = 6\n",
    "b = 4\n",
    "product = a * b\n",
    "total = a + b\n",
    "print(\"Product of numbers:\", product)\n",
    "print(\"Sum of numbers:\", total)\n"
   ]
  },
  {
   "cell_type": "code",
   "execution_count": 11,
   "id": "88b9e83c-e452-406f-a5a7-19bb58421aa3",
   "metadata": {},
   "outputs": [
    {
     "name": "stdout",
     "output_type": "stream",
     "text": [
      "Converted time in hours: 2.5\n"
     ]
    }
   ],
   "source": [
    "# Exercise 9 - Convert Minutes into Hours\n",
    "minutes = 150\n",
    "hours = minutes / 60\n",
    "print(\"Converted time in hours:\", hours)\n"
   ]
  },
  {
   "cell_type": "markdown",
   "id": "ffa3e24e-0f33-4e5d-84a4-7c4393964274",
   "metadata": {},
   "source": [
    "# Exercise 10 - Objectives of This Notebook\n",
    "\n",
    "Here are the key learning goals from this notebook:\n",
    "\n",
    "- Get familiar with common Data Science languages  \n",
    "- Explore important libraries in the field  \n",
    "- Learn about Data Science tools and platforms  \n",
    "- Practice basic arithmetic operations in Python  \n",
    "- Convert time units using Python  \n",
    "\n",
    "# Exercise 11 -  Author\n",
    "\n",
    "Spoorthi Bojja\n"
   ]
  },
  {
   "cell_type": "code",
   "execution_count": null,
   "id": "ac015917-7d1f-4a2d-ad2e-b452dd06e43c",
   "metadata": {},
   "outputs": [],
   "source": []
  }
 ],
 "metadata": {
  "kernelspec": {
   "display_name": "Python 3 (ipykernel)",
   "language": "python",
   "name": "python3"
  },
  "language_info": {
   "codemirror_mode": {
    "name": "ipython",
    "version": 3
   },
   "file_extension": ".py",
   "mimetype": "text/x-python",
   "name": "python",
   "nbconvert_exporter": "python",
   "pygments_lexer": "ipython3",
   "version": "3.11.7"
  }
 },
 "nbformat": 4,
 "nbformat_minor": 5
}
